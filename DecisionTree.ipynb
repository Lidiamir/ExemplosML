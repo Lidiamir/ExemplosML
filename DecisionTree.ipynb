{
  "nbformat": 4,
  "nbformat_minor": 0,
  "metadata": {
    "colab": {
      "provenance": [],
      "include_colab_link": true
    },
    "kernelspec": {
      "name": "python3",
      "display_name": "Python 3"
    },
    "language_info": {
      "name": "python"
    }
  },
  "cells": [
    {
      "cell_type": "markdown",
      "metadata": {
        "id": "view-in-github",
        "colab_type": "text"
      },
      "source": [
        "<a href=\"https://colab.research.google.com/github/Lidiamir/ExemplosML/blob/main/DecisionTree.ipynb\" target=\"_parent\"><img src=\"https://colab.research.google.com/assets/colab-badge.svg\" alt=\"Open In Colab\"/></a>"
      ]
    },
    {
      "cell_type": "markdown",
      "source": [
        "# Introdução a Árvore de Decisão\n"
      ],
      "metadata": {
        "id": "9EI-yJ8hMPnS"
      }
    },
    {
      "cell_type": "markdown",
      "source": [
        "A árvore de decisão (do inglês *decision tree*) é um método de aprendizado supervisionado usado para classificação e regressão. O objetivo é criar um modelo que preveja o valor de uma variável de destino, aprendendo regras de decisão simples, inferidas a partir de um conjunto de dados (do inglês *dataset*).\n",
        "\n",
        "Para melhor compreensão, vamos apresentar um exemplo de uso da técnica de árvore de decisão em um problema de classificação. No exemplo, a árvore será capaz de diferenciar três espécie de flores (setosa, versicolor e virginica) a partir de suas características. Para aprender como diferenciar uma flor da outra, primeiramente, o algoritmo que implementa a técnica é apresentado a um conjunto de dados históricos em que constam registros das características (comprimento da sépala, largura da sépala, comprimento da pétala, largura da pétala) e espécie de diversas flores. A partir desses dados o algoritmo consegue aprender quais os elementos mais marcantes de cada tipo de flor. O resultado desse aprendizado, também conhecido como modelo, é agora capaz de classificar novas flores utilizando para isso somente os dados correspondentes às características da flor.  \n",
        "\n",
        "É importante ressaltar que a árvore de decisão aprende sobre dados rotulados, isto é, dados que possuem alguma classificação/organização previamente feita. As técnicas que demandam rotulação prévia dos dados são chamadas de técnicas de aprendizado supervisionado.\n",
        "\n",
        "A árvore de decisão pode ser muito útil auxiliando na compreensão dos dados e evidenciando os principais elementos diferenciadores entre as classes de um conjunto de dados."
      ],
      "metadata": {
        "id": "2Jp5WoupMF73"
      }
    },
    {
      "cell_type": "markdown",
      "source": [
        "## Exemplo\n",
        "\n",
        "Existem muitas bibliotecas Python que disponibilizam conjuntos de dados prontos de forma a facilitar a aplicação de novas técnicas e também auxiliar em novos desenvolvimentos. No nosso exemplo, utilizaremos o *dataset* [iris](https://scikit-learn.org/stable/modules/generated/sklearn.datasets.load_iris.html) disponibilizado pela biblioteca [Scikit Learn](https://scikit-learn.org/stable/index.html), uma biblioteca conhecida de aprendizado de máquina em Python.\n",
        "\n",
        "No *dataset*, constam 150 registros de flores, 50 registros de cada espécie. Em cada registro, constam as características (parâmetros) e a espécie (classe) da flor."
      ],
      "metadata": {
        "id": "egDukQf5EJVH"
      }
    },
    {
      "cell_type": "markdown",
      "source": [
        "# Nova seção"
      ],
      "metadata": {
        "id": "wsVCJBxyhNz9"
      }
    },
    {
      "cell_type": "code",
      "source": [
        "from sklearn.datasets import load_iris\n",
        "\n",
        "iris = load_iris() # Carrega o dataset iris\n",
        "X, y = iris.data, iris.target # Parâmetros e rótulos das flores catalogadas\n",
        "\n",
        "print(\"Quantidade de registros: \" + str(len(iris.target)))\n",
        "print(\"Nome dos parâmetros: \"  + str(iris.feature_names))  \n",
        "print(\"Parâmetros das 5 primeiras flores:\\n\" + str(X[0:5]) + \"\\n\")  \n",
        "print(\"Nome das classes: \" + str(iris.target_names))\n",
        "print(\"Classes das 5 primeiras flores:\\n\" + str(y[0:5]) + \"\\n\")  "
      ],
      "metadata": {
        "id": "8VidrzMBzJ1j",
        "colab": {
          "base_uri": "https://localhost:8080/"
        },
        "outputId": "85e93a3c-672b-4aaf-8a00-da363aa9fa44"
      },
      "execution_count": null,
      "outputs": [
        {
          "output_type": "stream",
          "name": "stdout",
          "text": [
            "Quantidade de registros: 150\n",
            "Nome dos parâmetros: ['sepal length (cm)', 'sepal width (cm)', 'petal length (cm)', 'petal width (cm)']\n",
            "Parâmetros das 5 primeiras flores:\n",
            "[[5.1 3.5 1.4 0.2]\n",
            " [4.9 3.  1.4 0.2]\n",
            " [4.7 3.2 1.3 0.2]\n",
            " [4.6 3.1 1.5 0.2]\n",
            " [5.  3.6 1.4 0.2]]\n",
            "\n",
            "Nome das classes: ['setosa' 'versicolor' 'virginica']\n",
            "Classes das 5 primeiras flores:\n",
            "[0 0 0 0 0]\n",
            "\n"
          ]
        }
      ]
    },
    {
      "cell_type": "markdown",
      "source": [
        "Separamos 80% do *dataset* para ensinar (treinar) a árvore de decisão e os outros 20% serão utilizados para posteriormente testar o desempenho modelo treinado, atuando sobre dados novos nunca vistos. "
      ],
      "metadata": {
        "id": "4_ioAeG_LxKY"
      }
    },
    {
      "cell_type": "code",
      "source": [
        "from sklearn.model_selection import train_test_split\n",
        "\n",
        "x_train,x_test,y_train,y_test=train_test_split(X,y,test_size=0.2,random_state=123) # Função que divide o dataset"
      ],
      "metadata": {
        "id": "qJLEhv4ZLtRB"
      },
      "execution_count": null,
      "outputs": []
    },
    {
      "cell_type": "markdown",
      "source": [
        "Por se tratar de um problema de classificação, utilizaremos a implementação da técnica de árvore de decisão [DecisionTreeClassifier](https://scikit-learn.org/stable/modules/generated/sklearn.tree.DecisionTreeClassifier.html) também disponibilizada pela biblioteca [Scikit Learn](https://scikit-learn.org/stable/index.html) para aprender sobre *dataset* [iris](https://scikit-learn.org/stable/modules/generated/sklearn.datasets.load_iris.html)."
      ],
      "metadata": {
        "id": "SX9mVUQHJtap"
      }
    },
    {
      "cell_type": "code",
      "source": [
        "from sklearn import tree\n",
        "\n",
        "decision_tree = tree.DecisionTreeClassifier(random_state=0) # Criação da árvore de decisão\n",
        "decision_tree = decision_tree.fit(x_train, y_train) # Treinamento da árvore de decisão com os dados do dataset iris (dados de treinamento)"
      ],
      "metadata": {
        "id": "3QlhOHgNIXxQ"
      },
      "execution_count": null,
      "outputs": []
    },
    {
      "cell_type": "markdown",
      "source": [
        "Durante o aprendizado o método cria uma árvore de decisão, em que cada nó da árvore corresponde a uma validação. Os nós mais altos na árvore representam os parâmetros e valores mais significativos na diferenciação entre uma classe e outra. \n",
        "\n",
        "O código abaixo exibe a árvore resultante do aprendizado sobre os dados [iris](https://scikit-learn.org/stable/modules/generated/sklearn.datasets.load_iris.html). Cada nó tem algumas informações dentro dele:\n",
        "\n",
        "```\n",
        "  petal width (cm) ≤ 0.8  # Validação realizada no nó\n",
        "  gini = 0.665            # Índice Gini\n",
        "  samples = 120           # Quantidade de amostras do treinamento que recaem no nó \n",
        "  value = [37, 44, 39]    # Quantidade de amostras do treinamento que recaem em cada classe ['setosa' 'versicolor' 'virginica']\n",
        "  class = versicolor      # Classe predominante daquele nó com base em value \n",
        "\n",
        "```\n",
        "\n",
        "A cor do nó corresponde à cor da classe que mais o representa, quanto mais escura a cor, maior a proporção de elementos daquela classe estão presentes na amostra.  \n",
        "\n",
        "A partir da estrutura da árvore é possível aprender bastante sobre o conjunto de dados. Nesse caso, o primeiro nó e o nó logo abaixo dele usam o parâmetro largura da pétala (*petal width (cm)*) na validação, indicando que a largura das pétalas é um parâmetro significativo na diferenciação entre as três espécies. Esse argumento fica ainda mais forte, quando vemos que foi possível separar as flores do tipo *setosa* (nó cor laranja) das outras somente com a verificação feita no primeiro nó, que avalia se a largura da pétala é menor ou igual a 0,8 (*petal width (cm) ≤ 0.8*). Pela árvore também é possível observar uma intersecção maior entre as características das flores do tipo *versicolor* e *virginica*, pois são necessárias várias validações para separá-las umas das outras.\n",
        "\n",
        "Por isso, técnica de árvore de decisão é útil não só na automatização do processo de classificação ou regressão, como também para compreensão dos dados.\n",
        "\n",
        "Para a visualização da estrutura da árvore foi utilizada a biblioteca [Graphviz](https://graphviz.org/)."
      ],
      "metadata": {
        "id": "Ga7LanWFK0-J"
      }
    },
    {
      "cell_type": "code",
      "source": [
        "import graphviz \n",
        "\n",
        "dot_data = tree.export_graphviz(decision_tree, out_file=None, \n",
        "                      feature_names=iris.feature_names,  \n",
        "                      class_names=iris.target_names,  \n",
        "                      filled=True, rounded=True,  \n",
        "                      special_characters=True)  \n",
        "graph = graphviz.Source(dot_data)  \n",
        "graph "
      ],
      "metadata": {
        "colab": {
          "base_uri": "https://localhost:8080/",
          "height": 1000
        },
        "id": "RrnJKrS-MAjv",
        "outputId": "14f3b818-e809-42db-8c65-47904cd017a5"
      },
      "execution_count": null,
      "outputs": [
        {
          "output_type": "execute_result",
          "data": {
            "text/plain": [
              "<graphviz.files.Source at 0x7ffabff07280>"
            ],
            "image/svg+xml": "<?xml version=\"1.0\" encoding=\"UTF-8\" standalone=\"no\"?>\n<!DOCTYPE svg PUBLIC \"-//W3C//DTD SVG 1.1//EN\"\n \"http://www.w3.org/Graphics/SVG/1.1/DTD/svg11.dtd\">\n<!-- Generated by graphviz version 2.43.0 (0)\n -->\n<!-- Title: Tree Pages: 1 -->\n<svg width=\"854pt\" height=\"790pt\"\n viewBox=\"0.00 0.00 854.00 790.00\" xmlns=\"http://www.w3.org/2000/svg\" xmlns:xlink=\"http://www.w3.org/1999/xlink\">\n<g id=\"graph0\" class=\"graph\" transform=\"scale(1 1) rotate(0) translate(4 786)\">\n<title>Tree</title>\n<polygon fill=\"white\" stroke=\"transparent\" points=\"-4,4 -4,-786 850,-786 850,4 -4,4\"/>\n<!-- 0 -->\n<g id=\"node1\" class=\"node\">\n<title>0</title>\n<path fill=\"#f3fdf7\" stroke=\"black\" d=\"M539.5,-782C539.5,-782 417.5,-782 417.5,-782 411.5,-782 405.5,-776 405.5,-770 405.5,-770 405.5,-711 405.5,-711 405.5,-705 411.5,-699 417.5,-699 417.5,-699 539.5,-699 539.5,-699 545.5,-699 551.5,-705 551.5,-711 551.5,-711 551.5,-770 551.5,-770 551.5,-776 545.5,-782 539.5,-782\"/>\n<text text-anchor=\"start\" x=\"413.5\" y=\"-766.8\" font-family=\"Helvetica,sans-Serif\" font-size=\"14.00\">petal width (cm) ≤ 0.8</text>\n<text text-anchor=\"start\" x=\"443\" y=\"-751.8\" font-family=\"Helvetica,sans-Serif\" font-size=\"14.00\">gini = 0.665</text>\n<text text-anchor=\"start\" x=\"433.5\" y=\"-736.8\" font-family=\"Helvetica,sans-Serif\" font-size=\"14.00\">samples = 120</text>\n<text text-anchor=\"start\" x=\"420.5\" y=\"-721.8\" font-family=\"Helvetica,sans-Serif\" font-size=\"14.00\">value = [37, 44, 39]</text>\n<text text-anchor=\"start\" x=\"426\" y=\"-706.8\" font-family=\"Helvetica,sans-Serif\" font-size=\"14.00\">class = versicolor</text>\n</g>\n<!-- 1 -->\n<g id=\"node2\" class=\"node\">\n<title>1</title>\n<path fill=\"#e58139\" stroke=\"black\" d=\"M448,-655.5C448,-655.5 355,-655.5 355,-655.5 349,-655.5 343,-649.5 343,-643.5 343,-643.5 343,-599.5 343,-599.5 343,-593.5 349,-587.5 355,-587.5 355,-587.5 448,-587.5 448,-587.5 454,-587.5 460,-593.5 460,-599.5 460,-599.5 460,-643.5 460,-643.5 460,-649.5 454,-655.5 448,-655.5\"/>\n<text text-anchor=\"start\" x=\"373.5\" y=\"-640.3\" font-family=\"Helvetica,sans-Serif\" font-size=\"14.00\">gini = 0.0</text>\n<text text-anchor=\"start\" x=\"360.5\" y=\"-625.3\" font-family=\"Helvetica,sans-Serif\" font-size=\"14.00\">samples = 37</text>\n<text text-anchor=\"start\" x=\"351\" y=\"-610.3\" font-family=\"Helvetica,sans-Serif\" font-size=\"14.00\">value = [37, 0, 0]</text>\n<text text-anchor=\"start\" x=\"358\" y=\"-595.3\" font-family=\"Helvetica,sans-Serif\" font-size=\"14.00\">class = setosa</text>\n</g>\n<!-- 0&#45;&gt;1 -->\n<g id=\"edge1\" class=\"edge\">\n<title>0&#45;&gt;1</title>\n<path fill=\"none\" stroke=\"black\" d=\"M451.79,-698.91C444.38,-687.65 436.33,-675.42 428.88,-664.11\"/>\n<polygon fill=\"black\" stroke=\"black\" points=\"431.75,-662.1 423.33,-655.67 425.9,-665.94 431.75,-662.1\"/>\n<text text-anchor=\"middle\" x=\"418.28\" y=\"-676.45\" font-family=\"Helvetica,sans-Serif\" font-size=\"14.00\">True</text>\n</g>\n<!-- 2 -->\n<g id=\"node3\" class=\"node\">\n<title>2</title>\n<path fill=\"#e8fcf1\" stroke=\"black\" d=\"M620.5,-663C620.5,-663 490.5,-663 490.5,-663 484.5,-663 478.5,-657 478.5,-651 478.5,-651 478.5,-592 478.5,-592 478.5,-586 484.5,-580 490.5,-580 490.5,-580 620.5,-580 620.5,-580 626.5,-580 632.5,-586 632.5,-592 632.5,-592 632.5,-651 632.5,-651 632.5,-657 626.5,-663 620.5,-663\"/>\n<text text-anchor=\"start\" x=\"486.5\" y=\"-647.8\" font-family=\"Helvetica,sans-Serif\" font-size=\"14.00\">petal width (cm) ≤ 1.75</text>\n<text text-anchor=\"start\" x=\"520\" y=\"-632.8\" font-family=\"Helvetica,sans-Serif\" font-size=\"14.00\">gini = 0.498</text>\n<text text-anchor=\"start\" x=\"514.5\" y=\"-617.8\" font-family=\"Helvetica,sans-Serif\" font-size=\"14.00\">samples = 83</text>\n<text text-anchor=\"start\" x=\"501\" y=\"-602.8\" font-family=\"Helvetica,sans-Serif\" font-size=\"14.00\">value = [0, 44, 39]</text>\n<text text-anchor=\"start\" x=\"503\" y=\"-587.8\" font-family=\"Helvetica,sans-Serif\" font-size=\"14.00\">class = versicolor</text>\n</g>\n<!-- 0&#45;&gt;2 -->\n<g id=\"edge2\" class=\"edge\">\n<title>0&#45;&gt;2</title>\n<path fill=\"none\" stroke=\"black\" d=\"M505.21,-698.91C511.01,-690.1 517.2,-680.7 523.18,-671.61\"/>\n<polygon fill=\"black\" stroke=\"black\" points=\"526.26,-673.3 528.83,-663.02 520.41,-669.45 526.26,-673.3\"/>\n<text text-anchor=\"middle\" x=\"533.88\" y=\"-683.81\" font-family=\"Helvetica,sans-Serif\" font-size=\"14.00\">False</text>\n</g>\n<!-- 3 -->\n<g id=\"node4\" class=\"node\">\n<title>3</title>\n<path fill=\"#4be78d\" stroke=\"black\" d=\"M535,-544C535,-544 400,-544 400,-544 394,-544 388,-538 388,-532 388,-532 388,-473 388,-473 388,-467 394,-461 400,-461 400,-461 535,-461 535,-461 541,-461 547,-467 547,-473 547,-473 547,-532 547,-532 547,-538 541,-544 535,-544\"/>\n<text text-anchor=\"start\" x=\"396\" y=\"-528.8\" font-family=\"Helvetica,sans-Serif\" font-size=\"14.00\">petal length (cm) ≤ 5.35</text>\n<text text-anchor=\"start\" x=\"432\" y=\"-513.8\" font-family=\"Helvetica,sans-Serif\" font-size=\"14.00\">gini = 0.156</text>\n<text text-anchor=\"start\" x=\"426.5\" y=\"-498.8\" font-family=\"Helvetica,sans-Serif\" font-size=\"14.00\">samples = 47</text>\n<text text-anchor=\"start\" x=\"417\" y=\"-483.8\" font-family=\"Helvetica,sans-Serif\" font-size=\"14.00\">value = [0, 43, 4]</text>\n<text text-anchor=\"start\" x=\"415\" y=\"-468.8\" font-family=\"Helvetica,sans-Serif\" font-size=\"14.00\">class = versicolor</text>\n</g>\n<!-- 2&#45;&gt;3 -->\n<g id=\"edge3\" class=\"edge\">\n<title>2&#45;&gt;3</title>\n<path fill=\"none\" stroke=\"black\" d=\"M524.97,-579.91C518.21,-570.92 510.98,-561.32 504.02,-552.05\"/>\n<polygon fill=\"black\" stroke=\"black\" points=\"506.79,-549.91 497.98,-544.02 501.19,-554.12 506.79,-549.91\"/>\n</g>\n<!-- 14 -->\n<g id=\"node15\" class=\"node\">\n<title>14</title>\n<path fill=\"#853fe6\" stroke=\"black\" d=\"M712,-544C712,-544 577,-544 577,-544 571,-544 565,-538 565,-532 565,-532 565,-473 565,-473 565,-467 571,-461 577,-461 577,-461 712,-461 712,-461 718,-461 724,-467 724,-473 724,-473 724,-532 724,-532 724,-538 718,-544 712,-544\"/>\n<text text-anchor=\"start\" x=\"573\" y=\"-528.8\" font-family=\"Helvetica,sans-Serif\" font-size=\"14.00\">petal length (cm) ≤ 4.85</text>\n<text text-anchor=\"start\" x=\"609\" y=\"-513.8\" font-family=\"Helvetica,sans-Serif\" font-size=\"14.00\">gini = 0.054</text>\n<text text-anchor=\"start\" x=\"603.5\" y=\"-498.8\" font-family=\"Helvetica,sans-Serif\" font-size=\"14.00\">samples = 36</text>\n<text text-anchor=\"start\" x=\"594\" y=\"-483.8\" font-family=\"Helvetica,sans-Serif\" font-size=\"14.00\">value = [0, 1, 35]</text>\n<text text-anchor=\"start\" x=\"596\" y=\"-468.8\" font-family=\"Helvetica,sans-Serif\" font-size=\"14.00\">class = virginica</text>\n</g>\n<!-- 2&#45;&gt;14 -->\n<g id=\"edge14\" class=\"edge\">\n<title>2&#45;&gt;14</title>\n<path fill=\"none\" stroke=\"black\" d=\"M586.38,-579.91C593.21,-570.92 600.52,-561.32 607.57,-552.05\"/>\n<polygon fill=\"black\" stroke=\"black\" points=\"610.41,-554.1 613.68,-544.02 604.84,-549.86 610.41,-554.1\"/>\n</g>\n<!-- 4 -->\n<g id=\"node5\" class=\"node\">\n<title>4</title>\n<path fill=\"#42e687\" stroke=\"black\" d=\"M388.5,-425C388.5,-425 250.5,-425 250.5,-425 244.5,-425 238.5,-419 238.5,-413 238.5,-413 238.5,-354 238.5,-354 238.5,-348 244.5,-342 250.5,-342 250.5,-342 388.5,-342 388.5,-342 394.5,-342 400.5,-348 400.5,-354 400.5,-354 400.5,-413 400.5,-413 400.5,-419 394.5,-425 388.5,-425\"/>\n<text text-anchor=\"start\" x=\"246.5\" y=\"-409.8\" font-family=\"Helvetica,sans-Serif\" font-size=\"14.00\">sepal length (cm) ≤ 4.95</text>\n<text text-anchor=\"start\" x=\"284\" y=\"-394.8\" font-family=\"Helvetica,sans-Serif\" font-size=\"14.00\">gini = 0.085</text>\n<text text-anchor=\"start\" x=\"278.5\" y=\"-379.8\" font-family=\"Helvetica,sans-Serif\" font-size=\"14.00\">samples = 45</text>\n<text text-anchor=\"start\" x=\"269\" y=\"-364.8\" font-family=\"Helvetica,sans-Serif\" font-size=\"14.00\">value = [0, 43, 2]</text>\n<text text-anchor=\"start\" x=\"267\" y=\"-349.8\" font-family=\"Helvetica,sans-Serif\" font-size=\"14.00\">class = versicolor</text>\n</g>\n<!-- 3&#45;&gt;4 -->\n<g id=\"edge4\" class=\"edge\">\n<title>3&#45;&gt;4</title>\n<path fill=\"none\" stroke=\"black\" d=\"M416.15,-460.91C404.1,-451.38 391.16,-441.15 378.79,-431.37\"/>\n<polygon fill=\"black\" stroke=\"black\" points=\"380.77,-428.48 370.76,-425.02 376.43,-433.97 380.77,-428.48\"/>\n</g>\n<!-- 13 -->\n<g id=\"node14\" class=\"node\">\n<title>13</title>\n<path fill=\"#8139e5\" stroke=\"black\" d=\"M520,-417.5C520,-417.5 431,-417.5 431,-417.5 425,-417.5 419,-411.5 419,-405.5 419,-405.5 419,-361.5 419,-361.5 419,-355.5 425,-349.5 431,-349.5 431,-349.5 520,-349.5 520,-349.5 526,-349.5 532,-355.5 532,-361.5 532,-361.5 532,-405.5 532,-405.5 532,-411.5 526,-417.5 520,-417.5\"/>\n<text text-anchor=\"start\" x=\"447.5\" y=\"-402.3\" font-family=\"Helvetica,sans-Serif\" font-size=\"14.00\">gini = 0.0</text>\n<text text-anchor=\"start\" x=\"438\" y=\"-387.3\" font-family=\"Helvetica,sans-Serif\" font-size=\"14.00\">samples = 2</text>\n<text text-anchor=\"start\" x=\"428.5\" y=\"-372.3\" font-family=\"Helvetica,sans-Serif\" font-size=\"14.00\">value = [0, 0, 2]</text>\n<text text-anchor=\"start\" x=\"427\" y=\"-357.3\" font-family=\"Helvetica,sans-Serif\" font-size=\"14.00\">class = virginica</text>\n</g>\n<!-- 3&#45;&gt;13 -->\n<g id=\"edge13\" class=\"edge\">\n<title>3&#45;&gt;13</title>\n<path fill=\"none\" stroke=\"black\" d=\"M470.28,-460.91C471.01,-450.2 471.8,-438.62 472.54,-427.78\"/>\n<polygon fill=\"black\" stroke=\"black\" points=\"476.04,-427.88 473.23,-417.67 469.06,-427.4 476.04,-427.88\"/>\n</g>\n<!-- 5 -->\n<g id=\"node6\" class=\"node\">\n<title>5</title>\n<path fill=\"#ffffff\" stroke=\"black\" d=\"M250.5,-306C250.5,-306 120.5,-306 120.5,-306 114.5,-306 108.5,-300 108.5,-294 108.5,-294 108.5,-235 108.5,-235 108.5,-229 114.5,-223 120.5,-223 120.5,-223 250.5,-223 250.5,-223 256.5,-223 262.5,-229 262.5,-235 262.5,-235 262.5,-294 262.5,-294 262.5,-300 256.5,-306 250.5,-306\"/>\n<text text-anchor=\"start\" x=\"116.5\" y=\"-290.8\" font-family=\"Helvetica,sans-Serif\" font-size=\"14.00\">petal width (cm) ≤ 1.35</text>\n<text text-anchor=\"start\" x=\"157.5\" y=\"-275.8\" font-family=\"Helvetica,sans-Serif\" font-size=\"14.00\">gini = 0.5</text>\n<text text-anchor=\"start\" x=\"148\" y=\"-260.8\" font-family=\"Helvetica,sans-Serif\" font-size=\"14.00\">samples = 2</text>\n<text text-anchor=\"start\" x=\"138.5\" y=\"-245.8\" font-family=\"Helvetica,sans-Serif\" font-size=\"14.00\">value = [0, 1, 1]</text>\n<text text-anchor=\"start\" x=\"133\" y=\"-230.8\" font-family=\"Helvetica,sans-Serif\" font-size=\"14.00\">class = versicolor</text>\n</g>\n<!-- 4&#45;&gt;5 -->\n<g id=\"edge5\" class=\"edge\">\n<title>4&#45;&gt;5</title>\n<path fill=\"none\" stroke=\"black\" d=\"M273.01,-341.91C262.2,-332.47 250.6,-322.34 239.5,-312.65\"/>\n<polygon fill=\"black\" stroke=\"black\" points=\"241.74,-309.96 231.91,-306.02 237.14,-315.23 241.74,-309.96\"/>\n</g>\n<!-- 8 -->\n<g id=\"node9\" class=\"node\">\n<title>8</title>\n<path fill=\"#3ee684\" stroke=\"black\" d=\"M428,-306C428,-306 293,-306 293,-306 287,-306 281,-300 281,-294 281,-294 281,-235 281,-235 281,-229 287,-223 293,-223 293,-223 428,-223 428,-223 434,-223 440,-229 440,-235 440,-235 440,-294 440,-294 440,-300 434,-306 428,-306\"/>\n<text text-anchor=\"start\" x=\"289\" y=\"-290.8\" font-family=\"Helvetica,sans-Serif\" font-size=\"14.00\">petal length (cm) ≤ 4.95</text>\n<text text-anchor=\"start\" x=\"325\" y=\"-275.8\" font-family=\"Helvetica,sans-Serif\" font-size=\"14.00\">gini = 0.045</text>\n<text text-anchor=\"start\" x=\"319.5\" y=\"-260.8\" font-family=\"Helvetica,sans-Serif\" font-size=\"14.00\">samples = 43</text>\n<text text-anchor=\"start\" x=\"310\" y=\"-245.8\" font-family=\"Helvetica,sans-Serif\" font-size=\"14.00\">value = [0, 42, 1]</text>\n<text text-anchor=\"start\" x=\"308\" y=\"-230.8\" font-family=\"Helvetica,sans-Serif\" font-size=\"14.00\">class = versicolor</text>\n</g>\n<!-- 4&#45;&gt;8 -->\n<g id=\"edge8\" class=\"edge\">\n<title>4&#45;&gt;8</title>\n<path fill=\"none\" stroke=\"black\" d=\"M333.72,-341.91C336.68,-333.47 339.83,-324.48 342.9,-315.74\"/>\n<polygon fill=\"black\" stroke=\"black\" points=\"346.3,-316.62 346.3,-306.02 339.69,-314.3 346.3,-316.62\"/>\n</g>\n<!-- 6 -->\n<g id=\"node7\" class=\"node\">\n<title>6</title>\n<path fill=\"#39e581\" stroke=\"black\" d=\"M109,-179.5C109,-179.5 12,-179.5 12,-179.5 6,-179.5 0,-173.5 0,-167.5 0,-167.5 0,-123.5 0,-123.5 0,-117.5 6,-111.5 12,-111.5 12,-111.5 109,-111.5 109,-111.5 115,-111.5 121,-117.5 121,-123.5 121,-123.5 121,-167.5 121,-167.5 121,-173.5 115,-179.5 109,-179.5\"/>\n<text text-anchor=\"start\" x=\"32.5\" y=\"-164.3\" font-family=\"Helvetica,sans-Serif\" font-size=\"14.00\">gini = 0.0</text>\n<text text-anchor=\"start\" x=\"23\" y=\"-149.3\" font-family=\"Helvetica,sans-Serif\" font-size=\"14.00\">samples = 1</text>\n<text text-anchor=\"start\" x=\"13.5\" y=\"-134.3\" font-family=\"Helvetica,sans-Serif\" font-size=\"14.00\">value = [0, 1, 0]</text>\n<text text-anchor=\"start\" x=\"8\" y=\"-119.3\" font-family=\"Helvetica,sans-Serif\" font-size=\"14.00\">class = versicolor</text>\n</g>\n<!-- 5&#45;&gt;6 -->\n<g id=\"edge6\" class=\"edge\">\n<title>5&#45;&gt;6</title>\n<path fill=\"none\" stroke=\"black\" d=\"M142.13,-222.91C129.64,-211.21 116.01,-198.46 103.53,-186.78\"/>\n<polygon fill=\"black\" stroke=\"black\" points=\"105.63,-183.95 95.93,-179.67 100.84,-189.06 105.63,-183.95\"/>\n</g>\n<!-- 7 -->\n<g id=\"node8\" class=\"node\">\n<title>7</title>\n<path fill=\"#8139e5\" stroke=\"black\" d=\"M240,-179.5C240,-179.5 151,-179.5 151,-179.5 145,-179.5 139,-173.5 139,-167.5 139,-167.5 139,-123.5 139,-123.5 139,-117.5 145,-111.5 151,-111.5 151,-111.5 240,-111.5 240,-111.5 246,-111.5 252,-117.5 252,-123.5 252,-123.5 252,-167.5 252,-167.5 252,-173.5 246,-179.5 240,-179.5\"/>\n<text text-anchor=\"start\" x=\"167.5\" y=\"-164.3\" font-family=\"Helvetica,sans-Serif\" font-size=\"14.00\">gini = 0.0</text>\n<text text-anchor=\"start\" x=\"158\" y=\"-149.3\" font-family=\"Helvetica,sans-Serif\" font-size=\"14.00\">samples = 1</text>\n<text text-anchor=\"start\" x=\"148.5\" y=\"-134.3\" font-family=\"Helvetica,sans-Serif\" font-size=\"14.00\">value = [0, 0, 1]</text>\n<text text-anchor=\"start\" x=\"147\" y=\"-119.3\" font-family=\"Helvetica,sans-Serif\" font-size=\"14.00\">class = virginica</text>\n</g>\n<!-- 5&#45;&gt;7 -->\n<g id=\"edge7\" class=\"edge\">\n<title>5&#45;&gt;7</title>\n<path fill=\"none\" stroke=\"black\" d=\"M188.97,-222.91C189.88,-212.2 190.87,-200.62 191.8,-189.78\"/>\n<polygon fill=\"black\" stroke=\"black\" points=\"195.3,-189.93 192.67,-179.67 188.33,-189.33 195.3,-189.93\"/>\n</g>\n<!-- 9 -->\n<g id=\"node10\" class=\"node\">\n<title>9</title>\n<path fill=\"#39e581\" stroke=\"black\" d=\"M399,-179.5C399,-179.5 302,-179.5 302,-179.5 296,-179.5 290,-173.5 290,-167.5 290,-167.5 290,-123.5 290,-123.5 290,-117.5 296,-111.5 302,-111.5 302,-111.5 399,-111.5 399,-111.5 405,-111.5 411,-117.5 411,-123.5 411,-123.5 411,-167.5 411,-167.5 411,-173.5 405,-179.5 399,-179.5\"/>\n<text text-anchor=\"start\" x=\"322.5\" y=\"-164.3\" font-family=\"Helvetica,sans-Serif\" font-size=\"14.00\">gini = 0.0</text>\n<text text-anchor=\"start\" x=\"309.5\" y=\"-149.3\" font-family=\"Helvetica,sans-Serif\" font-size=\"14.00\">samples = 40</text>\n<text text-anchor=\"start\" x=\"300\" y=\"-134.3\" font-family=\"Helvetica,sans-Serif\" font-size=\"14.00\">value = [0, 40, 0]</text>\n<text text-anchor=\"start\" x=\"298\" y=\"-119.3\" font-family=\"Helvetica,sans-Serif\" font-size=\"14.00\">class = versicolor</text>\n</g>\n<!-- 8&#45;&gt;9 -->\n<g id=\"edge9\" class=\"edge\">\n<title>8&#45;&gt;9</title>\n<path fill=\"none\" stroke=\"black\" d=\"M357.03,-222.91C356.12,-212.2 355.13,-200.62 354.2,-189.78\"/>\n<polygon fill=\"black\" stroke=\"black\" points=\"357.67,-189.33 353.33,-179.67 350.7,-189.93 357.67,-189.33\"/>\n</g>\n<!-- 10 -->\n<g id=\"node11\" class=\"node\">\n<title>10</title>\n<path fill=\"#9cf2c0\" stroke=\"black\" d=\"M571.5,-187C571.5,-187 441.5,-187 441.5,-187 435.5,-187 429.5,-181 429.5,-175 429.5,-175 429.5,-116 429.5,-116 429.5,-110 435.5,-104 441.5,-104 441.5,-104 571.5,-104 571.5,-104 577.5,-104 583.5,-110 583.5,-116 583.5,-116 583.5,-175 583.5,-175 583.5,-181 577.5,-187 571.5,-187\"/>\n<text text-anchor=\"start\" x=\"437.5\" y=\"-171.8\" font-family=\"Helvetica,sans-Serif\" font-size=\"14.00\">petal width (cm) ≤ 1.55</text>\n<text text-anchor=\"start\" x=\"471\" y=\"-156.8\" font-family=\"Helvetica,sans-Serif\" font-size=\"14.00\">gini = 0.444</text>\n<text text-anchor=\"start\" x=\"469\" y=\"-141.8\" font-family=\"Helvetica,sans-Serif\" font-size=\"14.00\">samples = 3</text>\n<text text-anchor=\"start\" x=\"459.5\" y=\"-126.8\" font-family=\"Helvetica,sans-Serif\" font-size=\"14.00\">value = [0, 2, 1]</text>\n<text text-anchor=\"start\" x=\"454\" y=\"-111.8\" font-family=\"Helvetica,sans-Serif\" font-size=\"14.00\">class = versicolor</text>\n</g>\n<!-- 8&#45;&gt;10 -->\n<g id=\"edge10\" class=\"edge\">\n<title>8&#45;&gt;10</title>\n<path fill=\"none\" stroke=\"black\" d=\"M411.15,-222.91C423.04,-213.38 435.81,-203.15 448.01,-193.37\"/>\n<polygon fill=\"black\" stroke=\"black\" points=\"450.32,-196.01 455.94,-187.02 445.94,-190.54 450.32,-196.01\"/>\n</g>\n<!-- 11 -->\n<g id=\"node12\" class=\"node\">\n<title>11</title>\n<path fill=\"#8139e5\" stroke=\"black\" d=\"M483,-68C483,-68 394,-68 394,-68 388,-68 382,-62 382,-56 382,-56 382,-12 382,-12 382,-6 388,0 394,0 394,0 483,0 483,0 489,0 495,-6 495,-12 495,-12 495,-56 495,-56 495,-62 489,-68 483,-68\"/>\n<text text-anchor=\"start\" x=\"410.5\" y=\"-52.8\" font-family=\"Helvetica,sans-Serif\" font-size=\"14.00\">gini = 0.0</text>\n<text text-anchor=\"start\" x=\"401\" y=\"-37.8\" font-family=\"Helvetica,sans-Serif\" font-size=\"14.00\">samples = 1</text>\n<text text-anchor=\"start\" x=\"391.5\" y=\"-22.8\" font-family=\"Helvetica,sans-Serif\" font-size=\"14.00\">value = [0, 0, 1]</text>\n<text text-anchor=\"start\" x=\"390\" y=\"-7.8\" font-family=\"Helvetica,sans-Serif\" font-size=\"14.00\">class = virginica</text>\n</g>\n<!-- 10&#45;&gt;11 -->\n<g id=\"edge11\" class=\"edge\">\n<title>10&#45;&gt;11</title>\n<path fill=\"none\" stroke=\"black\" d=\"M481.18,-103.73C475.74,-94.97 469.99,-85.7 464.52,-76.91\"/>\n<polygon fill=\"black\" stroke=\"black\" points=\"467.43,-74.95 459.18,-68.3 461.48,-78.64 467.43,-74.95\"/>\n</g>\n<!-- 12 -->\n<g id=\"node13\" class=\"node\">\n<title>12</title>\n<path fill=\"#39e581\" stroke=\"black\" d=\"M622,-68C622,-68 525,-68 525,-68 519,-68 513,-62 513,-56 513,-56 513,-12 513,-12 513,-6 519,0 525,0 525,0 622,0 622,0 628,0 634,-6 634,-12 634,-12 634,-56 634,-56 634,-62 628,-68 622,-68\"/>\n<text text-anchor=\"start\" x=\"545.5\" y=\"-52.8\" font-family=\"Helvetica,sans-Serif\" font-size=\"14.00\">gini = 0.0</text>\n<text text-anchor=\"start\" x=\"536\" y=\"-37.8\" font-family=\"Helvetica,sans-Serif\" font-size=\"14.00\">samples = 2</text>\n<text text-anchor=\"start\" x=\"526.5\" y=\"-22.8\" font-family=\"Helvetica,sans-Serif\" font-size=\"14.00\">value = [0, 2, 0]</text>\n<text text-anchor=\"start\" x=\"521\" y=\"-7.8\" font-family=\"Helvetica,sans-Serif\" font-size=\"14.00\">class = versicolor</text>\n</g>\n<!-- 10&#45;&gt;12 -->\n<g id=\"edge12\" class=\"edge\">\n<title>10&#45;&gt;12</title>\n<path fill=\"none\" stroke=\"black\" d=\"M531.45,-103.73C536.81,-94.97 542.48,-85.7 547.86,-76.91\"/>\n<polygon fill=\"black\" stroke=\"black\" points=\"550.89,-78.66 553.12,-68.3 544.92,-75 550.89,-78.66\"/>\n</g>\n<!-- 15 -->\n<g id=\"node16\" class=\"node\">\n<title>15</title>\n<path fill=\"#ffffff\" stroke=\"black\" d=\"M699,-425C699,-425 574,-425 574,-425 568,-425 562,-419 562,-413 562,-413 562,-354 562,-354 562,-348 568,-342 574,-342 574,-342 699,-342 699,-342 705,-342 711,-348 711,-354 711,-354 711,-413 711,-413 711,-419 705,-425 699,-425\"/>\n<text text-anchor=\"start\" x=\"570\" y=\"-409.8\" font-family=\"Helvetica,sans-Serif\" font-size=\"14.00\">sepal width (cm) ≤ 3.0</text>\n<text text-anchor=\"start\" x=\"608.5\" y=\"-394.8\" font-family=\"Helvetica,sans-Serif\" font-size=\"14.00\">gini = 0.5</text>\n<text text-anchor=\"start\" x=\"599\" y=\"-379.8\" font-family=\"Helvetica,sans-Serif\" font-size=\"14.00\">samples = 2</text>\n<text text-anchor=\"start\" x=\"589.5\" y=\"-364.8\" font-family=\"Helvetica,sans-Serif\" font-size=\"14.00\">value = [0, 1, 1]</text>\n<text text-anchor=\"start\" x=\"584\" y=\"-349.8\" font-family=\"Helvetica,sans-Serif\" font-size=\"14.00\">class = versicolor</text>\n</g>\n<!-- 14&#45;&gt;15 -->\n<g id=\"edge15\" class=\"edge\">\n<title>14&#45;&gt;15</title>\n<path fill=\"none\" stroke=\"black\" d=\"M641.72,-460.91C641.15,-452.56 640.55,-443.67 639.95,-435.02\"/>\n<polygon fill=\"black\" stroke=\"black\" points=\"643.44,-434.76 639.27,-425.02 636.46,-435.24 643.44,-434.76\"/>\n</g>\n<!-- 18 -->\n<g id=\"node19\" class=\"node\">\n<title>18</title>\n<path fill=\"#8139e5\" stroke=\"black\" d=\"M834,-417.5C834,-417.5 741,-417.5 741,-417.5 735,-417.5 729,-411.5 729,-405.5 729,-405.5 729,-361.5 729,-361.5 729,-355.5 735,-349.5 741,-349.5 741,-349.5 834,-349.5 834,-349.5 840,-349.5 846,-355.5 846,-361.5 846,-361.5 846,-405.5 846,-405.5 846,-411.5 840,-417.5 834,-417.5\"/>\n<text text-anchor=\"start\" x=\"759.5\" y=\"-402.3\" font-family=\"Helvetica,sans-Serif\" font-size=\"14.00\">gini = 0.0</text>\n<text text-anchor=\"start\" x=\"746.5\" y=\"-387.3\" font-family=\"Helvetica,sans-Serif\" font-size=\"14.00\">samples = 34</text>\n<text text-anchor=\"start\" x=\"737\" y=\"-372.3\" font-family=\"Helvetica,sans-Serif\" font-size=\"14.00\">value = [0, 0, 34]</text>\n<text text-anchor=\"start\" x=\"739\" y=\"-357.3\" font-family=\"Helvetica,sans-Serif\" font-size=\"14.00\">class = virginica</text>\n</g>\n<!-- 14&#45;&gt;18 -->\n<g id=\"edge18\" class=\"edge\">\n<title>14&#45;&gt;18</title>\n<path fill=\"none\" stroke=\"black\" d=\"M694.11,-460.91C708.68,-448.99 724.59,-435.98 739.08,-424.12\"/>\n<polygon fill=\"black\" stroke=\"black\" points=\"741.44,-426.71 746.96,-417.67 737.01,-421.29 741.44,-426.71\"/>\n</g>\n<!-- 16 -->\n<g id=\"node17\" class=\"node\">\n<title>16</title>\n<path fill=\"#8139e5\" stroke=\"black\" d=\"M640,-298.5C640,-298.5 551,-298.5 551,-298.5 545,-298.5 539,-292.5 539,-286.5 539,-286.5 539,-242.5 539,-242.5 539,-236.5 545,-230.5 551,-230.5 551,-230.5 640,-230.5 640,-230.5 646,-230.5 652,-236.5 652,-242.5 652,-242.5 652,-286.5 652,-286.5 652,-292.5 646,-298.5 640,-298.5\"/>\n<text text-anchor=\"start\" x=\"567.5\" y=\"-283.3\" font-family=\"Helvetica,sans-Serif\" font-size=\"14.00\">gini = 0.0</text>\n<text text-anchor=\"start\" x=\"558\" y=\"-268.3\" font-family=\"Helvetica,sans-Serif\" font-size=\"14.00\">samples = 1</text>\n<text text-anchor=\"start\" x=\"548.5\" y=\"-253.3\" font-family=\"Helvetica,sans-Serif\" font-size=\"14.00\">value = [0, 0, 1]</text>\n<text text-anchor=\"start\" x=\"547\" y=\"-238.3\" font-family=\"Helvetica,sans-Serif\" font-size=\"14.00\">class = virginica</text>\n</g>\n<!-- 15&#45;&gt;16 -->\n<g id=\"edge16\" class=\"edge\">\n<title>15&#45;&gt;16</title>\n<path fill=\"none\" stroke=\"black\" d=\"M622.28,-341.91C618.45,-330.98 614.3,-319.14 610.43,-308.11\"/>\n<polygon fill=\"black\" stroke=\"black\" points=\"613.73,-306.95 607.12,-298.67 607.13,-309.26 613.73,-306.95\"/>\n</g>\n<!-- 17 -->\n<g id=\"node18\" class=\"node\">\n<title>17</title>\n<path fill=\"#39e581\" stroke=\"black\" d=\"M779,-298.5C779,-298.5 682,-298.5 682,-298.5 676,-298.5 670,-292.5 670,-286.5 670,-286.5 670,-242.5 670,-242.5 670,-236.5 676,-230.5 682,-230.5 682,-230.5 779,-230.5 779,-230.5 785,-230.5 791,-236.5 791,-242.5 791,-242.5 791,-286.5 791,-286.5 791,-292.5 785,-298.5 779,-298.5\"/>\n<text text-anchor=\"start\" x=\"702.5\" y=\"-283.3\" font-family=\"Helvetica,sans-Serif\" font-size=\"14.00\">gini = 0.0</text>\n<text text-anchor=\"start\" x=\"693\" y=\"-268.3\" font-family=\"Helvetica,sans-Serif\" font-size=\"14.00\">samples = 1</text>\n<text text-anchor=\"start\" x=\"683.5\" y=\"-253.3\" font-family=\"Helvetica,sans-Serif\" font-size=\"14.00\">value = [0, 1, 0]</text>\n<text text-anchor=\"start\" x=\"678\" y=\"-238.3\" font-family=\"Helvetica,sans-Serif\" font-size=\"14.00\">class = versicolor</text>\n</g>\n<!-- 15&#45;&gt;17 -->\n<g id=\"edge17\" class=\"edge\">\n<title>15&#45;&gt;17</title>\n<path fill=\"none\" stroke=\"black\" d=\"M669.11,-341.91C678.24,-330.54 688.18,-318.18 697.34,-306.77\"/>\n<polygon fill=\"black\" stroke=\"black\" points=\"700.32,-308.65 703.85,-298.67 694.86,-304.27 700.32,-308.65\"/>\n</g>\n</g>\n</svg>\n"
          },
          "metadata": {},
          "execution_count": 6
        }
      ]
    },
    {
      "cell_type": "markdown",
      "source": [
        "Também é possível exporta o gráfico para o formato pdf."
      ],
      "metadata": {
        "id": "SuTMlJpqDZwR"
      }
    },
    {
      "cell_type": "code",
      "source": [
        "graph.render(\"iris\") "
      ],
      "metadata": {
        "colab": {
          "base_uri": "https://localhost:8080/",
          "height": 35
        },
        "id": "YMn0TGXQAFb5",
        "outputId": "c65f32e7-0b5e-4ebb-963d-3761a78d6a8b"
      },
      "execution_count": null,
      "outputs": [
        {
          "output_type": "execute_result",
          "data": {
            "text/plain": [
              "'iris.pdf'"
            ],
            "application/vnd.google.colaboratory.intrinsic+json": {
              "type": "string"
            }
          },
          "metadata": {},
          "execution_count": 7
        }
      ]
    },
    {
      "cell_type": "markdown",
      "source": [
        "Alternativamente, a árvore também pode ser exportada em formato textual com a função export_text do [Scikit Learn](https://scikit-learn.org/stable/index.html). Este método dispensa a instalação de bibliotecas externas e é mais compacto:"
      ],
      "metadata": {
        "id": "rFcEvAsaUJ_I"
      }
    },
    {
      "cell_type": "code",
      "source": [
        "from sklearn.tree import export_text\n",
        "\n",
        "r = export_text(decision_tree, feature_names=iris['feature_names'])\n",
        "print(iris['feature_names'])\n",
        "print(r)"
      ],
      "metadata": {
        "colab": {
          "base_uri": "https://localhost:8080/"
        },
        "id": "a626ae_nLNVR",
        "outputId": "b4dc609c-b127-4487-e510-f17fc5aa5ce1"
      },
      "execution_count": null,
      "outputs": [
        {
          "output_type": "stream",
          "name": "stdout",
          "text": [
            "['sepal length (cm)', 'sepal width (cm)', 'petal length (cm)', 'petal width (cm)']\n",
            "|--- petal width (cm) <= 0.80\n",
            "|   |--- class: 0\n",
            "|--- petal width (cm) >  0.80\n",
            "|   |--- petal width (cm) <= 1.75\n",
            "|   |   |--- petal length (cm) <= 5.35\n",
            "|   |   |   |--- sepal length (cm) <= 4.95\n",
            "|   |   |   |   |--- petal width (cm) <= 1.35\n",
            "|   |   |   |   |   |--- class: 1\n",
            "|   |   |   |   |--- petal width (cm) >  1.35\n",
            "|   |   |   |   |   |--- class: 2\n",
            "|   |   |   |--- sepal length (cm) >  4.95\n",
            "|   |   |   |   |--- petal length (cm) <= 4.95\n",
            "|   |   |   |   |   |--- class: 1\n",
            "|   |   |   |   |--- petal length (cm) >  4.95\n",
            "|   |   |   |   |   |--- petal width (cm) <= 1.55\n",
            "|   |   |   |   |   |   |--- class: 2\n",
            "|   |   |   |   |   |--- petal width (cm) >  1.55\n",
            "|   |   |   |   |   |   |--- class: 1\n",
            "|   |   |--- petal length (cm) >  5.35\n",
            "|   |   |   |--- class: 2\n",
            "|   |--- petal width (cm) >  1.75\n",
            "|   |   |--- petal length (cm) <= 4.85\n",
            "|   |   |   |--- sepal width (cm) <= 3.00\n",
            "|   |   |   |   |--- class: 2\n",
            "|   |   |   |--- sepal width (cm) >  3.00\n",
            "|   |   |   |   |--- class: 1\n",
            "|   |   |--- petal length (cm) >  4.85\n",
            "|   |   |   |--- class: 2\n",
            "\n"
          ]
        }
      ]
    },
    {
      "cell_type": "markdown",
      "source": [
        "Para testar se a árvore criada realmente aprendeu bem, testamos o desempenho dela sobre os dados de teste. Usamos a árvore treinada para prever as classes das flores no *dataset* de teste e comparamos a previsão com a real classificação da flor. "
      ],
      "metadata": {
        "id": "jhjHQV-Dgpvr"
      }
    },
    {
      "cell_type": "code",
      "source": [
        "from sklearn.metrics import confusion_matrix\n",
        "\n",
        "y_prediction = decision_tree.predict(x_test) # Predições a partir dos parâmetros dos dados de teste\n",
        "cm = confusion_matrix(y_test, y_prediction)\t# Comparação da predição com a classificação real \n",
        "print(\"Confusion Matrix: \\n\",  cm)"
      ],
      "metadata": {
        "colab": {
          "base_uri": "https://localhost:8080/"
        },
        "id": "s3kt9VD_YgTJ",
        "outputId": "2450ff1a-6637-4859-cd21-59db6947119a"
      },
      "execution_count": null,
      "outputs": [
        {
          "output_type": "stream",
          "name": "stdout",
          "text": [
            "Confusion Matrix: \n",
            " [[13  0  0]\n",
            " [ 0  6  0]\n",
            " [ 0  0 11]]\n"
          ]
        }
      ]
    },
    {
      "cell_type": "markdown",
      "source": [
        "Para comparar a previsão do algoritmo com a real classificação da flor usamos uma estrutura chamada matriz de confusão. Cada eixo da matriz exibe as classificações reais (*True Labels*) e a classificação feita pelo algoritmo (*Predicted Label*). Nas células ficam os quantitativos de flores que recaem naquelas classificações. A diagonal representa os elementos para os quais a classificação real coincide com a predição feita pelo algoritmo.\n",
        "\n",
        "Nesse exemplo, a árvore acertou a classificação de todas as flores no *dataset* de testes, indicando que ela aprendeu bem as características que diferenciam uma espécie de outra."
      ],
      "metadata": {
        "id": "xShN8x-tkuXI"
      }
    },
    {
      "cell_type": "code",
      "source": [
        "import matplotlib.pyplot as plt\n",
        "from sklearn.metrics import confusion_matrix, ConfusionMatrixDisplay\n",
        "\n",
        "disp = ConfusionMatrixDisplay(confusion_matrix=cm, display_labels=iris.target_names)\n",
        "\n",
        "disp.plot()\n",
        "plt.show()"
      ],
      "metadata": {
        "colab": {
          "base_uri": "https://localhost:8080/",
          "height": 279
        },
        "id": "7NyWetlhZAii",
        "outputId": "59611368-5b23-41f3-a820-ac251ed06565"
      },
      "execution_count": null,
      "outputs": [
        {
          "output_type": "display_data",
          "data": {
            "text/plain": [
              "<Figure size 432x288 with 2 Axes>"
            ],
            "image/png": "[encoded data removed]"
          },
          "metadata": {
            "needs_background": "light"
          }
        }
      ]
    }
  ]
}